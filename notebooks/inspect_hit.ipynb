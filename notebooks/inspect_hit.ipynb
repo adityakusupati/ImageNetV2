{
 "cells": [
  {
   "cell_type": "code",
   "execution_count": 4,
   "metadata": {},
   "outputs": [
    {
     "name": "stdout",
     "output_type": "stream",
     "text": [
      "The autoreload extension is already loaded. To reload it, use:\n",
      "  %reload_ext autoreload\n"
     ]
    }
   ],
   "source": [
    "%load_ext autoreload\n",
    "%autoreload 2\n",
    "\n",
    "import datetime\n",
    "import io\n",
    "import json\n",
    "import math\n",
    "import os\n",
    "import sys\n",
    "\n",
    "import ipywidgets as widgets\n",
    "\n",
    "repo_root = os.path.join(os.getcwd(), '../code')\n",
    "sys.path.append(repo_root)\n",
    "\n",
    "import candidate_data\n",
    "import image_loader\n",
    "import imagenet\n",
    "import inspect_hit_notebook_code\n",
    "import mturk_data\n",
    "import mturk_utils\n",
    "import utils"
   ]
  },
  {
   "cell_type": "code",
   "execution_count": 5,
   "metadata": {},
   "outputs": [
    {
     "name": "stdout",
     "output_type": "stream",
     "text": [
      "Reading from local file /Users/ludwig/research/deep_learning/imagenet_2/data/cache/metadata/imagenet_file_metadata_v3.pickle ... done\n",
      "Loaded 82456 unique candidates from 7 search result JSON file(s).\n",
      "    /Users/ludwig/research/deep_learning/imagenet_2/data/search_results/...\n",
      "        2018-07-31_flickr_search_result_vaishaal_class_1_153.json\n",
      "        2018-08-20-16-10-18_becca.json\n",
      "        2018-08-25-11-43-09_becca.json\n",
      "        2018-08-27-22-53-45_becca.json\n",
      "        2018-08-30-02-40-26_becca.json\n",
      "        2018-08-30-18-46-35_becca.json\n",
      "        2018-08-30-19-31-10_becca.json\n",
      "    There were 11929 duplicate occurences.\n",
      "    Ignored 0 candidate entries because they are on the blacklist (blacklist size: 880).\n",
      "Loaded 2563 HITs from 13 hit data JSON file(s) in 0 seconds.\n",
      "    /Users/ludwig/research/deep_learning/imagenet_2/data/mturk/hit_data_live/...\n",
      "        2018-08-06_17:33_vaishaal.json\n",
      "        2018-08-17_17:24_vaishaal.json\n",
      "        vaishaal_hits_submitted_2018-08-17-18:28:33-PDT.json\n",
      "        ...\n",
      "    Ignored 0 filenames.\n",
      "Reading from local file /Users/ludwig/research/deep_learning/imagenet_2/data/cache/mturk_results/data_live_2018-09-01_18-42-17_UTC.pickle ... done\n",
      "Using pickled JSON data stored by ludwig from /Users/ludwig/research/deep_learning/imagenet_2/data/mturk/hit_data_live locally\n",
      "    S3 source: s3://imagenet2datav2/mturk_results/data_live_2018-09-01_18-42-17_UTC.pickle\n",
      "    Ignored assignment data for 0 HITs\n"
     ]
    },
    {
     "data": {
      "application/vnd.jupyter.widget-view+json": {
       "model_id": "825549383d35498cb49346781b407aa1",
       "version_major": 2,
       "version_minor": 0
      },
      "text/plain": [
       "HTML(value='\\n<style>\\n.hit_image {\\n    object-fit: contain;\\n}\\n.widget-vbox .hit_heading {\\n    font-size: …"
      ]
     },
     "metadata": {},
     "output_type": "display_data"
    },
    {
     "name": "stdout",
     "output_type": "stream",
     "text": [
      "Your account balance is 1422.34\n"
     ]
    }
   ],
   "source": [
    "live = True\n",
    "\n",
    "imgnet = imagenet.ImageNetData()\n",
    "cds = candidate_data.CandidateData(exclude_blacklisted_candidates=False)\n",
    "img_loader = image_loader.ImageLoader(imgnet, cds, max_num_threads=50)#, cache_on_local_disk=False)\n",
    "client = mturk_utils.get_mturk_client(live=live)\n",
    "user_balance = client.get_account_balance()\n",
    "mturk = mturk_data.MTurkData(live=True, load_assignments=True)\n",
    "\n",
    "display(mturk_utils.get_hit_images_css())\n",
    "\n",
    "print('Your account balance is {}'.format(user_balance['AvailableBalance']))"
   ]
  },
  {
   "cell_type": "code",
   "execution_count": 17,
   "metadata": {
    "scrolled": false
   },
   "outputs": [
    {
     "name": "stdout",
     "output_type": "stream",
     "text": [
      "HIT 358fcf69-255f-475f-bdf0-e1f74e6c02f3 (HIT id 32L724R85MZ72URSCQ47GH0C9EEPIY )\n",
      "\n",
      "wnid n04442312, synset \"toaster\"\n",
      "created 2018-08-31 08:13:31 -0700\n",
      "content hash: 88fca6e720d37b16d1457e6336439f40787b6dbb\n",
      "work duration: min 30, max 245, avg 98, median 52\n",
      "work delay : min -24461, max -21411, avg -22483, median -22138\n",
      "10 assigment(s), 63% avg accuracy on 6 validation image(s)\n",
      "   67% control (3/3 pos, 1/3 neg), 5 selected, 42.0 sec, status \"Submitted\", id 3J88R45B2ID7F9DG1E998BJEQO6PXN\n",
      "   33% control (2/3 pos, 0/3 neg), 6 selected, 245.0 sec, status \"Submitted\", id 3JWH6J9I9US0ZLY2G34ZFPNR76INBH\n",
      "   50% control (3/3 pos, 0/3 neg), 6 selected, 187.0 sec, status \"Submitted\", id 3FTOP5WARH33W8473PFI21AR7IIJ0P\n",
      "  100% control (3/3 pos, 3/3 neg), 3 selected, 218.0 sec, status \"Submitted\", id 3A4TN5196MXRZU4XR55HLPWD3FDCH8\n",
      "   33% control (1/3 pos, 1/3 neg), 3 selected, 30.0 sec, status \"Submitted\", id 3NG53N1RLXYH08C8T6XHSC2LZF38P4\n",
      "   67% control (2/3 pos, 2/3 neg), 3 selected, 57.0 sec, status \"Submitted\", id 3VP0C6EFSIBOBRW78B8RRUCZOF4M62\n",
      "   67% control (3/3 pos, 1/3 neg), 8 selected, 60.0 sec, status \"Submitted\", id 3ZV9H2YQQFMLJK33TBGGTP26CQHW3Y\n",
      "   33% control (1/3 pos, 1/3 neg), 3 selected, 48.0 sec, status \"Submitted\", id 3ATTHHXXWC3FYNQCOJJPZEI24AKXIS\n",
      "   83% control (2/3 pos, 3/3 neg), 2 selected, 44.0 sec, status \"Submitted\", id 3RJSC4XJ129VP9PMENBO1RRMPHU05R\n",
      "  100% control (3/3 pos, 3/3 neg), 3 selected, 47.0 sec, status \"Submitted\", id 3SKEMFQBZ5KGPHFSGES9WVGM5518K7\n",
      "\n",
      "\n",
      "Loading images ... done, took 7.9 seconds\n",
      "\n"
     ]
    },
    {
     "data": {
      "application/vnd.jupyter.widget-view+json": {
       "model_id": "452f650f5c8d4713bfd74574c6e8e6b2",
       "version_major": 2,
       "version_minor": 0
      },
      "text/plain": [
       "VBox(children=(HBox(children=(VBox(children=(Image(value=b'\\xff\\xd8\\xff\\xe0\\x00\\x10JFIF\\x00\\x01\\x01\\x01\\x00H\\x…"
      ]
     },
     "metadata": {},
     "output_type": "display_data"
    }
   ],
   "source": [
    "# Can be either a HIT id or our UUID\n",
    "cur_id = '358fcf69-255f-475f-bdf0-e1f74e6c02f3'\n",
    "\n",
    "grid, cur_hit = inspect_hit_notebook_code.inspect_hit(cur_id=cur_id,\n",
    "                                                      client=client,\n",
    "                                                      imgnet=imgnet,\n",
    "                                                      hits=mturk.hits,\n",
    "                                                      img_loader=img_loader,\n",
    "                                                      cds=cds,\n",
    "                                                      hit_ids_to_uuid=mturk.mturk_ids_to_uuid)\n",
    "display(grid)"
   ]
  },
  {
   "cell_type": "markdown",
   "metadata": {},
   "source": [
    "# Inspecting HITs"
   ]
  },
  {
   "cell_type": "code",
   "execution_count": 37,
   "metadata": {},
   "outputs": [
    {
     "name": "stdout",
     "output_type": "stream",
     "text": [
      "10 assigment(s), 62% avg accuracy on 6 validation image(s)\n",
      "\n",
      "3HHRAGRYXAKZTDJHJYQG38S68M2O9G :  67% control (2/3 pos, 2/3 neg), 7 selected, 51.0 sec, status \"Submitted\"\n",
      "3LJ7UR74RJSGEMDT1OUC7BHLWKK4NM :  83% control (3/3 pos, 2/3 neg), 9 selected, 99.0 sec, status \"Submitted\"\n",
      "3RWE2M8QWJPZFYVSIN7AV8R8F840N2 :  67% control (1/3 pos, 3/3 neg), 3 selected, 40.0 sec, status \"Submitted\"\n",
      "3WJ1OXY92CVAD4664NFK2HDQZZHA8F :  83% control (2/3 pos, 3/3 neg), 3 selected, 50.0 sec, status \"Submitted\"\n",
      "32AT8R96GNOCBXZDOQ2GJ9PLIWGUSB :  50% control (2/3 pos, 1/3 neg), 7 selected, 70.0 sec, status \"Submitted\"\n",
      "3BGYGHDBBZZAMM9DBRD4M8HP1BY22Y :  33% control (2/3 pos, 0/3 neg), 11 selected, 56.0 sec, status \"Submitted\"\n",
      "35BLDD71I8C9POARO86TBOO7JIPZVA :  67% control (1/3 pos, 3/3 neg), 3 selected, 98.0 sec, status \"Submitted\"\n",
      "3P4RDNWND7LE33LN7F4O85ANSIHJID :  50% control (3/3 pos, 0/3 neg), 11 selected, 41.0 sec, status \"Submitted\"\n",
      "3LS2AMNW5H55LC030012P3IVIM8QO6 :  50% control (2/3 pos, 1/3 neg), 6 selected, 40.0 sec, status \"Submitted\"\n",
      "34S6N1K2ZXYK2YY34IYGO8M0WU7HLK :  67% control (1/3 pos, 3/3 neg), 3 selected, 38.0 sec, status \"Submitted\"\n"
     ]
    }
   ],
   "source": [
    "cur_assignments = mturk_utils.get_assignments_for_hit_from_aws(cur_hit['hit_id'], client)\n",
    "hit_desc = mturk_utils.get_hit_description(cur_hit, cur_assignments, imgnet, id_first=True)\n",
    "\n",
    "print(hit_desc.assignments_summary + '\\n')\n",
    "for t in hit_desc.per_assignment_text:\n",
    "    print(t)"
   ]
  },
  {
   "cell_type": "code",
   "execution_count": 39,
   "metadata": {
    "scrolled": false
   },
   "outputs": [
    {
     "name": "stdout",
     "output_type": "stream",
     "text": [
      "Worker 7f6f2f88346b9fc205782b52454f8081f01ca2ce1ccf98cfab83a2f8984ebaaf\n",
      "\n",
      "\n",
      "Loading images ... done, took 0.0 seconds\n",
      "\n"
     ]
    },
    {
     "data": {
      "application/vnd.jupyter.widget-view+json": {
       "model_id": "e4d4b09f32ef4b3f8bf8f57e738f12cb",
       "version_major": 2,
       "version_minor": 0
      },
      "text/plain": [
       "VBox(children=(Label(value='Selected images', _dom_classes=('hit_heading',)), VBox(children=(HBox(children=(VB…"
      ]
     },
     "metadata": {},
     "output_type": "display_data"
    }
   ],
   "source": [
    "assignment_id = '3LJ7UR74RJSGEMDT1OUC7BHLWKK4NM'\n",
    "\n",
    "print('Worker {}'.format(cur_assignments[assignment_id]['WorkerId']))\n",
    "\n",
    "display(inspect_hit_notebook_code.inspect_assignment(assignment_id=assignment_id, hit_data=cur_hit, cur_assignments=cur_assignments, img_loader=img_loader, cds=cds))"
   ]
  },
  {
   "cell_type": "markdown",
   "metadata": {},
   "source": [
    "# "
   ]
  }
 ],
 "metadata": {
  "kernelspec": {
   "display_name": "Python 3",
   "language": "python",
   "name": "python3"
  },
  "language_info": {
   "codemirror_mode": {
    "name": "ipython",
    "version": 3
   },
   "file_extension": ".py",
   "mimetype": "text/x-python",
   "name": "python",
   "nbconvert_exporter": "python",
   "pygments_lexer": "ipython3",
   "version": "3.6.4"
  }
 },
 "nbformat": 4,
 "nbformat_minor": 2
}
