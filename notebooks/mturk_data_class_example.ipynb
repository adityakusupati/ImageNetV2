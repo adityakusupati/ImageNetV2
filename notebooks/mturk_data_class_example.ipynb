{
 "cells": [
  {
   "cell_type": "code",
   "execution_count": 1,
   "metadata": {},
   "outputs": [],
   "source": [
    "%load_ext autoreload\n",
    "%autoreload 2\n",
    "%matplotlib notebook\n",
    "\n",
    "from collections import Counter\n",
    "import os\n",
    "import sys\n",
    "\n",
    "import matplotlib.pyplot as plt\n",
    "import numpy as np\n",
    "\n",
    "repo_root = os.path.join(os.getcwd(), '../code')\n",
    "sys.path.append(repo_root)\n",
    "\n",
    "import candidate_data\n",
    "import imagenet\n",
    "import mturk_data\n",
    "import mturk_utils\n",
    "import utils"
   ]
  },
  {
   "cell_type": "code",
   "execution_count": 2,
   "metadata": {},
   "outputs": [
    {
     "name": "stdout",
     "output_type": "stream",
     "text": [
      "Reading from local file /Users/ludwig/research/deep_learning/imagenet_2/data/cache/metadata/imagenet_metadata_2018-09-14_01-26-58_UTC.pickle ... done\n",
      "Loaded 153637 unique candidates from 40 search result JSON file(s).\n",
      "    /Users/ludwig/research/deep_learning/imagenet_2/data/search_results/...\n",
      "        2018-07-31_flickr_search_result_vaishaal_class_1_153.json\n",
      "        2018-08-20-16-10-18_becca.json\n",
      "        2018-08-25-11-43-09_becca.json\n",
      "        2018-08-27-22-53-45_becca.json\n",
      "        2018-08-30-02-40-26_becca.json\n",
      "        2018-08-30-18-46-35_becca.json\n",
      "        2018-08-30-19-31-10_becca.json\n",
      "        2018-09-04-17-03-01_becca.json\n",
      "        2018-09-04-17-36-03_becca.json\n",
      "        2018-09-05-16-16-14_becca.json\n",
      "        ...\n",
      "    There were 58222 duplicate occurences.\n",
      "    Ignored 0 candidate entries because they are on the blacklist (blacklist size: 1203).\n",
      "Loaded 5403 HITs from 28 hit data JSON file(s) in 0 seconds.\n",
      "    /Users/ludwig/research/deep_learning/imagenet_2/data/mturk/hit_data_live/...\n",
      "        2018-08-06_17:33_vaishaal.json\n",
      "        2018-08-17_17:24_vaishaal.json\n",
      "        vaishaal_hits_submitted_2018-08-17-18:28:33-PDT.json\n",
      "        ...\n",
      "    Ignored 0 filenames.\n",
      "    Ignored 4 HITs from the blacklist (blacklist size 4)\n"
     ]
    }
   ],
   "source": [
    "imgnet = imagenet.ImageNetData()\n",
    "cds = candidate_data.CandidateData(load_metadata_from_s3=False, exclude_blacklisted_candidates=False)\n",
    "\n",
    "mturk = mturk_data.MTurkData(live=True, load_assignments=False)"
   ]
  },
  {
   "cell_type": "code",
   "execution_count": 3,
   "metadata": {},
   "outputs": [
    {
     "name": "stdout",
     "output_type": "stream",
     "text": [
      "Hits of image 1582397371dd770737bfa9ea0c2813e229a6420c : \n",
      "    3c7987e5-737d-4f07-9905-35b1d76c181a\n",
      "    ce3fc97a-4ce4-4f08-a66c-e2fa30adc391\n",
      "    e3f3bbdc-f497-49a5-9c9e-707849be06b5\n",
      "    f1b41450-481a-4548-8cee-0c49f8349c82\n",
      "    44b3a590-9e6c-4fdb-8055-80133eeb2969\n",
      "    9eae75a5-bc96-41f8-8bf8-1ef71635b3c7\n",
      "Hits of image 479296a731192347d414ab39575740260ab6c0c6 : \n",
      "    b7a40c07-2de9-4b9a-83ec-971dcc0bc40e\n",
      "Hits of image 0510d188d124aab763b6aac8c494b7a304a45863 : \n",
      "    fab3e8ab-8677-4731-b952-0961a818fe17\n",
      "Hits of image 1fe994770481c890b10a8d79b251c82896d0448c : \n",
      "    83e6df72-2846-4cd6-b25b-076697c74115\n",
      "    46b0c0d3-8b61-4ea2-ba28-35339d8ec962\n",
      "    dc0efd86-1073-423e-976b-d0bacc81bf97\n",
      "Hits of image ca5142fe9137a1e0bc9785473fa71428e87d2a63 : \n",
      "    d1864a6f-0f2e-44b4-965d-548d8fd87f3a\n"
     ]
    }
   ],
   "source": [
    "imgs = list(mturk.hits_of_image.keys())[0:1000:200]\n",
    "for img in imgs:\n",
    "    print('Hits of image {} : '.format(img))\n",
    "    for hit in mturk.hits_of_image[img]:\n",
    "        print('    {}'.format(hit['uuid']))"
   ]
  },
  {
   "cell_type": "code",
   "execution_count": 4,
   "metadata": {},
   "outputs": [
    {
     "name": "stdout",
     "output_type": "stream",
     "text": [
      "Hits for wnid n01443537 : \n",
      "    3c7987e5-737d-4f07-9905-35b1d76c181a\n",
      "    2d124821-9713-464c-bb16-b78d5c1c7519\n",
      "    ce3fc97a-4ce4-4f08-a66c-e2fa30adc391\n",
      "    05465731-2780-4f7c-b445-df576d79f8e9\n",
      "    e3f3bbdc-f497-49a5-9c9e-707849be06b5\n",
      "    1604e00c-1cf5-424a-a83c-d6c7f5bfdfe1\n",
      "    f1b41450-481a-4548-8cee-0c49f8349c82\n",
      "    c80c370c-bb9f-445f-960e-a36d4977e8eb\n",
      "    44b3a590-9e6c-4fdb-8055-80133eeb2969\n",
      "    755bcc0a-c3d7-4995-97f8-5f09a50f3ac5\n",
      "    9eae75a5-bc96-41f8-8bf8-1ef71635b3c7\n",
      "    865e35cf-2acd-4f53-8bc7-4745d464f55d\n",
      "    204f81b1-bdf2-47c1-a9de-8c2f51132b45\n",
      "    95172a30-733d-4b89-9bf3-144154428a69\n",
      "    8d1b5bfd-d968-4775-bdc9-81f79dd7205f\n",
      "Hits for wnid n03720891 : \n",
      "    d8993ad4-4227-4e1b-bb92-6051630b54e4\n",
      "    b10b032a-fa5f-4f1a-a493-d4e6e9ae1c42\n",
      "    fab8f485-2733-4d0a-abe0-66e478f1677d\n",
      "    9fc9c093-123b-44ad-890d-1a08fb92da2d\n",
      "    6b00097f-36db-4b48-8333-8311ccb91ff3\n",
      "    4f3d0ee7-1d96-40f7-a208-b6dc869446a1\n",
      "    b4b9fc24-e86b-42e5-a86d-90cc32e37603\n",
      "    5a1e553f-7584-42bf-9725-90c881c3d015\n",
      "    12a124a1-1795-4c17-8a35-f23c8089cf54\n",
      "    805cc66f-e073-4003-a5dc-a508b998c3fb\n",
      "    0787c864-b08b-4737-92e2-72ce7e829d13\n",
      "    02edba0a-6d3e-4635-85bd-db2b45ba8359\n",
      "Hits for wnid n07714990 : \n",
      "    2f6b0fcf-3cc6-4a32-b770-c7428b0aba17\n",
      "    ce37c028-82e7-4916-899d-ae7d32f337af\n",
      "    c9a2ee1f-62c1-4099-ab1e-957626ab23ce\n",
      "    cfa54a3a-6a82-4752-b8b4-0110119b5714\n",
      "Hits for wnid n02865351 : \n",
      "    ef7bb69b-b4c9-4757-8b9c-9aeff8279a9d\n",
      "    43f043f8-256b-44d1-89c6-b82509b96b72\n",
      "    b0ec9485-bf15-4454-843e-3345ab8de02d\n",
      "    7d6c1780-68e8-45d0-9a86-28164d399b3b\n",
      "    bbb9d662-6137-4191-9351-c504cf7ed87c\n",
      "    d972bd45-7e2b-4b24-9de1-a44b3c4dfa65\n",
      "    854a4d9c-f44b-4ab4-9854-41b1313a3cf2\n",
      "    587ce9a5-faf9-41dd-ae26-6e687a2d118f\n",
      "    3838a788-f137-479b-bd6c-1489bb33638c\n",
      "Hits for wnid n04507155 : \n",
      "    f9e82342-0b1e-44c6-9c6b-80b5e33f9032\n",
      "    14c3aabd-a8f7-43b3-800b-040648ec906c\n",
      "    e51b85c3-c632-49a2-9247-f965e33cdde0\n",
      "    8a8e8f0b-2e99-45b4-a19e-ccd9fe8be9c9\n"
     ]
    }
   ],
   "source": [
    "wnids = list(mturk.hits_for_wnid)[::200]\n",
    "for wnid in wnids:\n",
    "    print('Hits for wnid {} : '.format(wnid))\n",
    "    for hit in mturk.hits_for_wnid[wnid]:\n",
    "        print('    {}'.format(hit['uuid']))"
   ]
  },
  {
   "cell_type": "code",
   "execution_count": 5,
   "metadata": {},
   "outputs": [
    {
     "name": "stdout",
     "output_type": "stream",
     "text": [
      "There are 5383 HITs with size 48\n",
      "There are 20 HITs with size 25\n"
     ]
    }
   ],
   "source": [
    "hit_sizes = []\n",
    "for hit in mturk.hits.values():\n",
    "    hit_sizes.append(len(hit['images_all']))\n",
    "c = Counter(hit_sizes)\n",
    "for size, freq in c.most_common(100):\n",
    "    print('There are {} HITs with size {}'.format(freq, size))"
   ]
  },
  {
   "cell_type": "code",
   "execution_count": 6,
   "metadata": {},
   "outputs": [
    {
     "name": "stdout",
     "output_type": "stream",
     "text": [
      "Blacklisted HITs:\n",
      "70f3eff6-7eb9-47b8-a557-afd0befd6757\n",
      "f2729bd9-d5c9-4bf7-aaeb-54c659ceecd8\n",
      "a9ac30d5-4591-490a-9357-c023e6f9b7a2\n",
      "238bff99-1bc7-4c52-931b-d57453d936b1\n"
     ]
    }
   ],
   "source": [
    "print('Blacklisted HITs:')\n",
    "for uuid in mturk.blacklisted_hits.keys():\n",
    "    print(uuid)\n",
    "    assert uuid not in mturk.hits"
   ]
  },
  {
   "cell_type": "code",
   "execution_count": 7,
   "metadata": {},
   "outputs": [
    {
     "name": "stdout",
     "output_type": "stream",
     "text": [
      "Loaded 5375 HITs from 21 hit data JSON file(s) in 0 seconds.\n",
      "    /Users/ludwig/research/deep_learning/imagenet_2/data/mturk/hit_data_live/...\n",
      "        vaishaal_hits_submitted_2018-08-25-10:18:38-PDT.json\n",
      "        vaishaal_hits_submitted_2018-08-28-01:56:41-PDT.json\n",
      "        vaishaal_hits_submitted_2018-08-29-18:55:37-PDT.json\n",
      "        ...\n",
      "    Ignored 7 filenames.\n",
      "    Ignored 4 HITs from the blacklist (blacklist size 4)\n"
     ]
    }
   ],
   "source": [
    "mturk = mturk_data.MTurkData(live=True,\n",
    "                             load_assignments=False,\n",
    "                             source_filenames_to_ignore=mturk_data.main_collection_filenames_to_ignore)"
   ]
  },
  {
   "cell_type": "code",
   "execution_count": 8,
   "metadata": {},
   "outputs": [
    {
     "name": "stdout",
     "output_type": "stream",
     "text": [
      "There are 5375 HITs with size 48\n"
     ]
    }
   ],
   "source": [
    "hit_sizes = []\n",
    "for hit in mturk.hits.values():\n",
    "    hit_sizes.append(len(hit['images_all']))\n",
    "c = Counter(hit_sizes)\n",
    "for size, freq in c.most_common(100):\n",
    "    print('There are {} HITs with size {}'.format(freq, size))"
   ]
  },
  {
   "cell_type": "code",
   "execution_count": null,
   "metadata": {},
   "outputs": [],
   "source": []
  }
 ],
 "metadata": {
  "kernelspec": {
   "display_name": "Python 3",
   "language": "python",
   "name": "python3"
  },
  "language_info": {
   "codemirror_mode": {
    "name": "ipython",
    "version": 3
   },
   "file_extension": ".py",
   "mimetype": "text/x-python",
   "name": "python",
   "nbconvert_exporter": "python",
   "pygments_lexer": "ipython3",
   "version": "3.6.4"
  }
 },
 "nbformat": 4,
 "nbformat_minor": 2
}
