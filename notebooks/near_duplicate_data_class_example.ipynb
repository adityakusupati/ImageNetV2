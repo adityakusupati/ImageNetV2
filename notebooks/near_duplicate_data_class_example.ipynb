{
 "cells": [
  {
   "cell_type": "code",
   "execution_count": 1,
   "metadata": {},
   "outputs": [],
   "source": [
    "%load_ext autoreload\n",
    "%autoreload 2\n",
    "%load_ext line_profiler\n",
    "%matplotlib notebook\n",
    "\n",
    "from collections import Counter\n",
    "import json\n",
    "import math\n",
    "import os\n",
    "import sys\n",
    "\n",
    "import matplotlib.pyplot as plt\n",
    "import numpy as np\n",
    "\n",
    "repo_root = os.path.join(os.getcwd(), '../code')\n",
    "sys.path.append(repo_root)\n",
    "\n",
    "import candidate_data\n",
    "import imagenet\n",
    "import mturk_data\n",
    "import mturk_utils\n",
    "import near_duplicate_data\n",
    "import utils"
   ]
  },
  {
   "cell_type": "code",
   "execution_count": 2,
   "metadata": {},
   "outputs": [
    {
     "name": "stdout",
     "output_type": "stream",
     "text": [
      "Reading from local file /Users/ludwig/research/deep_learning/imagenet_2/data/cache/metadata/imagenet_metadata_2018-09-14_01-26-58_UTC.pickle ... done\n",
      "Loaded 153637 unique candidates from 40 search result JSON file(s).\n",
      "    /Users/ludwig/research/deep_learning/imagenet_2/data/search_results/...\n",
      "        2018-07-31_flickr_search_result_vaishaal_class_1_153.json\n",
      "        2018-08-20-16-10-18_becca.json\n",
      "        2018-08-25-11-43-09_becca.json\n",
      "        2018-08-27-22-53-45_becca.json\n",
      "        2018-08-30-02-40-26_becca.json\n",
      "        2018-08-30-18-46-35_becca.json\n",
      "        2018-08-30-19-31-10_becca.json\n",
      "        2018-09-04-17-03-01_becca.json\n",
      "        2018-09-04-17-36-03_becca.json\n",
      "        2018-09-05-16-16-14_becca.json\n",
      "        ...\n",
      "    There were 58222 duplicate occurences.\n",
      "    Ignored 0 candidate entries because they are on the blacklist (blacklist size: 1203).\n",
      "Loaded 5485 HITs from 23 hit data JSON file(s) in 0 seconds.\n",
      "    /Users/ludwig/research/deep_learning/imagenet_2/data/mturk/hit_data_live/...\n",
      "        vaishaal_hits_submitted_2018-08-25-10:18:38-PDT.json\n",
      "        vaishaal_hits_submitted_2018-08-28-01:56:41-PDT.json\n",
      "        vaishaal_hits_submitted_2018-08-29-18:55:37-PDT.json\n",
      "        ...\n",
      "    Ignored 7 filenames.\n",
      "    Ignored 4 HITs from the blacklist (blacklist size 4)\n",
      "Reading from local file /Users/ludwig/research/deep_learning/imagenet_2/data/cache/mturk_results/data_live_2018-09-18_16-31-42_UTC.pickle ... done\n",
      "Using pickled JSON data stored by ludwig from /Users/ludwig/research/deep_learning/imagenet_2/data/mturk/hit_data_live locally\n",
      "    S3 source: s3://imagenet2datav2/mturk_results/data_live_2018-09-18_16-31-42_UTC.pickle\n",
      "    Ignored assignment data for 32 HITs\n"
     ]
    }
   ],
   "source": [
    "imgnet = imagenet.ImageNetData()\n",
    "cds = candidate_data.CandidateData(load_metadata_from_s3=False, exclude_blacklisted_candidates=False)\n",
    "mturk = mturk_data.MTurkData(live=True,\n",
    "                             load_assignments=True,\n",
    "                             source_filenames_to_ignore=mturk_data.main_collection_filenames_to_ignore)"
   ]
  },
  {
   "cell_type": "code",
   "execution_count": 3,
   "metadata": {},
   "outputs": [
    {
     "name": "stdout",
     "output_type": "stream",
     "text": [
      "Loaded review data from /Users/ludwig/research/deep_learning/imagenet_2/notebooks/../code/../data/metadata/nearest_neighbor_reviews_v2.json\n",
      "    Review info data 1875 candidates\n",
      "Loaded near duplicate data from /Users/ludwig/research/deep_learning/imagenet_2/notebooks/../code/../data/metadata/near_duplicates.json\n",
      "    Near duplicate data for 718 candidates\n",
      "Computing connected components ... done, took 0.11941653187386692 seconds\n",
      "There are 10973 non-singleton components\n",
      "Processing components ... done, took 5.136914353119209 seconds\n",
      "64 non-singleton components contain at least one ImageNet image\n",
      "Currently 16307 candidates are marked as near-duplicates\n",
      "Computing review thresholds ... done, took 16.622696483973414 seconds\n",
      " "
     ]
    }
   ],
   "source": [
    "%prun ndc_data = near_duplicate_data.NearDuplicateData(imgnet=imgnet, candidates=cds, mturk_data=mturk, compute_review_thresholds=True)"
   ]
  },
  {
   "cell_type": "code",
   "execution_count": 4,
   "metadata": {},
   "outputs": [
    {
     "name": "stdout",
     "output_type": "stream",
     "text": [
      "   8393 components of size  2\n",
      "   1461 components of size  3\n",
      "    557 components of size  4\n",
      "    222 components of size  5\n",
      "    126 components of size  6\n",
      "     74 components of size  7\n",
      "     36 components of size  8\n",
      "     32 components of size  9\n",
      "     17 components of size 10\n",
      "     12 components of size 11\n",
      "     11 components of size 12\n",
      "     10 components of size 15\n",
      "      9 components of size 14\n",
      "      6 components of size 13\n",
      "      3 components of size 16\n",
      "      1 components of size 32\n",
      "      1 components of size 18\n",
      "      1 components of size 17\n",
      "      1 components of size 22\n"
     ]
    }
   ],
   "source": [
    "c = Counter([len(x) for x in ndc_data.components.values()])\n",
    "\n",
    "for k, v in c.most_common(100):\n",
    "    print('{:7} components of size {:2}'.format(v, k))"
   ]
  },
  {
   "cell_type": "code",
   "execution_count": 5,
   "metadata": {},
   "outputs": [
    {
     "data": {
      "text/plain": [
       "{'l2': 1112651395.0, 'fc7': 282898.95233280736, 'dssim': 0.0}"
      ]
     },
     "execution_count": 5,
     "metadata": {},
     "output_type": "execute_result"
    }
   ],
   "source": [
    "ndc_data.review_threshold['226615c7c5a1cc188604bb352d8f6da09d4055b8']"
   ]
  },
  {
   "cell_type": "code",
   "execution_count": null,
   "metadata": {},
   "outputs": [],
   "source": []
  }
 ],
 "metadata": {
  "kernelspec": {
   "display_name": "Python 3",
   "language": "python",
   "name": "python3"
  },
  "language_info": {
   "codemirror_mode": {
    "name": "ipython",
    "version": 3
   },
   "file_extension": ".py",
   "mimetype": "text/x-python",
   "name": "python",
   "nbconvert_exporter": "python",
   "pygments_lexer": "ipython3",
   "version": "3.6.4"
  }
 },
 "nbformat": 4,
 "nbformat_minor": 2
}
